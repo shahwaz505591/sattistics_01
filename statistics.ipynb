{
 "cells": [
  {
   "cell_type": "markdown",
   "id": "57684d59-bf1f-4b1d-9dea-4e29eb59fba4",
   "metadata": {},
   "source": [
    "Q1. What is Statistics?\n",
    "\n",
    "Ans:\n",
    "    statistics: it is a branch of  science that collecting ,organising ,Analysing the data and makes some conclusion of the data.\n",
    "     if you want graduation in the statistics go to the ISI('INDIAN STATISTICAL INSTITUATE').\n",
    "        \n",
    "   DATA: fact or piece of information it may be like photos,audio,file and other.         \n",
    "\n",
    "\n",
    "\n",
    "\n"
   ]
  },
  {
   "cell_type": "markdown",
   "id": "43f0cfc2-e81c-4a82-8a88-167c8c7e42a5",
   "metadata": {},
   "source": [
    "Q2. Define the different types of statistics and give an example of when each type might be used.\n",
    "Ans: statistisc:statistics: it is a branch of science that collecting ,organising ,Analysing the data and makes some conclusion of the data. \n",
    "     staistics are two tyes:\n",
    "        1.Descriptive staistics: it consist of organising and summarising the data.\n",
    "        DESRIPTIVE has 3 types:\n",
    "            .central tandency[MEAN ,MEDIAN AND MODE]\n",
    "            .Measure of disperstion[variance and standard variance]\n",
    "            .Different types of distribution of data.\n",
    "            Ex:HISTOGRAM,PDF,PMF.\n",
    "            Ex: it consist of mostly numeric data.\n",
    "        \n",
    "        2.Inferential statistics: It consist of using data you have  measured to form conclusion.\n",
    "        INFIRENTIAL has 3 types:\n",
    "            .Z-TEST\n",
    "            .T-TEST\n",
    "            .CHI SQUARE \n",
    "            \n",
    "        Ex: taken sample from the population and makes conclusion according to the hypothesis.     \n",
    "        \n",
    "        "
   ]
  },
  {
   "cell_type": "markdown",
   "id": "6138effa-e657-4df4-b88e-8040ef3d0bff",
   "metadata": {},
   "source": [
    "Q3. What are the different types of data and how do they differ from each other? Provide an example of\n",
    "each type of data.\n",
    "\n",
    "Ans:\n",
    "    Data:FACT or piece of information it may be like photos,audio,file and other.\n",
    "    DATA has divided into two types:\n",
    "        \n",
    "        1.QUANTATIVE DATA :IT is mostly consisit int and float type data. we can say numerical data.\n",
    "            \n",
    "            it has also divided  into 2 types:\n",
    "                \n",
    "                .CONTINIOUS:it consist whole value [int type values[like 1,45,66]]\n",
    "                      Ex: page on of book.\n",
    "                    \n",
    "                    .DISCRETE: it consiat of float type value [22.3,44.3].\n",
    "                        \n",
    "                        Ex:  height ,weight and temperature.\n",
    "           2.QUALITATIVE DATA: IT is consist Categorical data.like fire ,not fire block etc.\n",
    "                        \n",
    "            it has also divided 2 types:\n",
    "                \n",
    "                .NOMINAL :IN this types rank does not exist.\n",
    "                         Ex:gender ,colour etc.\n",
    "                    \n",
    "                    .ORDINAL: IN this type rank has important .Ex Customer Feedback :1.happy  ,2.unhappy ,3.Disappointed\n",
    "                               \n"
   ]
  },
  {
   "cell_type": "markdown",
   "id": "8e88b8ab-e89f-46a8-a0b1-95c1ab08d112",
   "metadata": {},
   "source": [
    "Q4. Categorise the following datasets with respect to quantitative and qualitative data types:\n",
    "(i) Grading in exam: A+, A, B+, B, C+, C, D, E\n",
    "(ii) Colour of mangoes: yellow, green, orange, red\n",
    "(iii) Height data of a class: [178.9, 179, 179.5, 176, 177.2, 178.3, 175.8,...]\n",
    "(iv) Number of mangoes exported by a farm: [500, 600, 478, 672, ...]\n",
    "Ans:\n",
    "    i.QUALITATIVE DATA('ordinal')\n",
    "    ii.QUALITATIVE DATA('nominal')\n",
    "    iii.QUANTATIVE DATA('discrete')\n",
    "    iv.QUANTATIVE DATA('continious')"
   ]
  },
  {
   "cell_type": "markdown",
   "id": "be14105b-56da-4987-b15b-4ec90f878d45",
   "metadata": {},
   "source": [
    "Q5. Explain the concept of levels of measurement and give an example of a variable for each level.\n",
    "Ans:\n",
    "    Levels of measurement, also known as scales of measurement, refer to the different ways in which data can be categorized or measured. There are four primary levels of measurement:\n",
    "\n",
    "Nominal Level: At this level, data is categorized into distinct, non-ordered categories or groups. Variables at this level represent differences in kind, not degree. Example: Gender (categories: Male, Female).\n",
    "\n",
    "Ordinal Level: Data at this level can be categorized into ordered categories or ranks, but the differences between the categories are not meaningful or consistent. Example: Educational attainment (categories: High School, Bachelor's, Master's), where you know there's an order, but you can't quantify the difference between \"High School\" and \"Bachelor's\" in a consistent way.\n",
    "\n",
    "Interval Level: Data at this level has ordered categories with meaningful and consistent intervals between them, but there is no true zero point. Example: Temperature measured in Celsius or Fahrenheit. In Celsius, 20°C is not \"twice as hot\" as 10°C.\n",
    "\n",
    "Ratio Level: Data at this level has all the properties of interval data, but it also has a true zero point, meaning zero indicates the absence of the variable. Example: Height, Weight, Income (in dollars), where a value of zero has meaning (e.g., zero income)."
   ]
  },
  {
   "cell_type": "markdown",
   "id": "b7a6887b-18ae-41a8-867a-a5a5f1290217",
   "metadata": {},
   "source": [
    "Q6. Why is it important to understand the level of measurement when analyzing data? Provide an\n",
    "example to illustrate your answer.\n",
    "Ans:\n",
    "    Understanding the level of measurement is crucial because it determines the types of statistical analyses and operations that can be performed on the data. Using an inappropriate level of measurement can lead to incorrect conclusions. For example, you cannot calculate a meaningful average (mean) for nominal data like \"Favorite Color,\" but you can for ordinal, interval, or ratio data."
   ]
  },
  {
   "cell_type": "markdown",
   "id": "d9afabbe-5d64-4609-b5e3-8c6d12a0d2bf",
   "metadata": {},
   "source": [
    "Q7. How nominal data type is different from ordinal data type.\n",
    "Ans:\n",
    "    Nominal data involves categories without an inherent order or ranking, while ordinal data has ordered categories with no consistent intervals between them. For example, \"Eye Color\" is nominal (categories: Brown, Blue, Green), while \"Education Level\" is ordinal (categories: High School, Bachelor's, Master's)."
   ]
  },
  {
   "cell_type": "markdown",
   "id": "1293083a-d7ae-4a7d-9ffd-b3ceb3a2caaa",
   "metadata": {},
   "source": [
    "Q8. Which type of plot can be used to display data in terms of range?\n",
    "Ans:\n",
    "    A box plot (also known as a box-and-whisker plot) is commonly used to display data in terms of range. It visually represents the minimum, first quartile, median, third quartile, and maximum values in a dataset, giving you a clear view of the data's spread."
   ]
  },
  {
   "cell_type": "markdown",
   "id": "b176eb75-dac7-44f8-9993-51db8bdec4de",
   "metadata": {},
   "source": [
    "Q9. Describe the difference between descriptive and inferential statistics. Give an example of each\n",
    "type of statistics and explain how they are used.\n",
    "Ans:\n",
    "    Descriptive Statistics: These statistics are used to summarize and describe a dataset without drawing conclusions beyond the data. Examples include measures of central tendency (mean, median, mode),\n",
    "    measures of variability (range, variance, standard deviation), and graphical representations like histograms or scatter plots. They help provide a clear and concise summary of the data's key characteristics.\n",
    "\n",
    ".Inferential Statistics: Inferential statistics involve drawing conclusions or making predictions about a population based on a sample of data. For example,\n",
    "conducting a hypothesis test to determine if a new drug is effective in treating a disease based on a sample of patients. Inferential statistics allow you to generalize from a sample to a larger population and make informed decisions or predictions."
   ]
  },
  {
   "cell_type": "code",
   "execution_count": null,
   "id": "2c4440b9-dc6f-4ccd-8d09-7a7f84c8c102",
   "metadata": {},
   "outputs": [],
   "source": [
    "Q10. What are some common measures of central tendency and variability used in statistics? Explain\n",
    "how each measure can be used to describe a dataset.\n",
    "Ans:\n",
    "  *  Measures of Central Tendency:\n",
    "\n",
    "Mean: The average of a set of values. It provides a measure of the center of the data.\n",
    "Median: The middle value in a dataset when it's ordered. It's less affected by extreme values (outliers) compared to the mean.\n",
    "Mode: The most frequently occurring value in a dataset. It's useful for categorical data or when looking for the most common value.\n",
    "Measures of Variability (Dispersion):\n",
    "\n",
    "Range: The difference between the maximum and minimum values in a dataset. It gives an idea of the spread of data.\n",
    "Variance: A measure of how data points deviate from the mean. It quantifies the overall variability.\n",
    "Standard Deviation: A common measure of the average deviation of data points from the mean. A smaller standard deviation indicates less variability."
   ]
  },
  {
   "cell_type": "code",
   "execution_count": null,
   "id": "143582ce-49cd-492a-b2e9-b6e1710b83b0",
   "metadata": {},
   "outputs": [],
   "source": []
  }
 ],
 "metadata": {
  "kernelspec": {
   "display_name": "Python 3 (ipykernel)",
   "language": "python",
   "name": "python3"
  },
  "language_info": {
   "codemirror_mode": {
    "name": "ipython",
    "version": 3
   },
   "file_extension": ".py",
   "mimetype": "text/x-python",
   "name": "python",
   "nbconvert_exporter": "python",
   "pygments_lexer": "ipython3",
   "version": "3.10.8"
  }
 },
 "nbformat": 4,
 "nbformat_minor": 5
}
